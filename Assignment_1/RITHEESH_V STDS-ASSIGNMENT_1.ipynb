{
 "cells": [
  {
   "cell_type": "code",
   "execution_count": 1,
   "id": "397537da",
   "metadata": {},
   "outputs": [],
   "source": [
    "import numpy as np\n",
    "import pandas as pd\n",
    "import scipy.stats as st\n",
    "import statsmodels.stats as stm\n",
    "import seaborn as sns\n",
    "import matplotlib.pyplot as plt"
   ]
  },
  {
   "cell_type": "code",
   "execution_count": 2,
   "id": "9d1016a3",
   "metadata": {},
   "outputs": [],
   "source": [
    "data=pd.read_excel(r\"D:\\PGCP-DSML RITHEESH V\\Statistics\\ASSIGNMENTS\\Stats_assignment_1.xlsx\")"
   ]
  },
  {
   "cell_type": "code",
   "execution_count": 3,
   "id": "f400d61b",
   "metadata": {},
   "outputs": [
    {
     "data": {
      "text/plain": [
       "<bound method DataFrame.info of       customerID  gender  SeniorCitizen Partner Dependents  tenure  \\\n",
       "0     7590-VHVEG  Female              0     Yes         No       1   \n",
       "1     5575-GNVDE    Male              0      No         No      34   \n",
       "2     3668-QPYBK    Male              0      No         No       2   \n",
       "3     7795-CFOCW    Male              0      No         No      45   \n",
       "4     9237-HQITU  Female              0      No         No       2   \n",
       "...          ...     ...            ...     ...        ...     ...   \n",
       "7038  6840-RESVB    Male              0     Yes        Yes      24   \n",
       "7039  2234-XADUH  Female              0     Yes        Yes      72   \n",
       "7040  4801-JZAZL  Female              0     Yes        Yes      11   \n",
       "7041  8361-LTMKD    Male              1     Yes         No       4   \n",
       "7042  3186-AJIEK    Male              0      No         No      66   \n",
       "\n",
       "     PhoneService OnlineBackup TechSupport StreamingTV        Contract  \\\n",
       "0              No          Yes          No          No  Month-to-month   \n",
       "1             Yes           No          No          No        One year   \n",
       "2             Yes          Yes          No          No  Month-to-month   \n",
       "3              No           No         Yes          No        One year   \n",
       "4             Yes           No          No          No  Month-to-month   \n",
       "...           ...          ...         ...         ...             ...   \n",
       "7038          Yes           No         Yes         Yes        One year   \n",
       "7039          Yes          Yes          No         Yes        One year   \n",
       "7040           No           No          No          No  Month-to-month   \n",
       "7041          Yes           No          No          No  Month-to-month   \n",
       "7042          Yes           No         Yes         Yes        Two year   \n",
       "\n",
       "     PaperlessBilling              PaymentMethod  MonthlyCharges Churn  \n",
       "0                 Yes           Electronic check           29.85    No  \n",
       "1                  No               Mailed check           56.95    No  \n",
       "2                 Yes               Mailed check           53.85   Yes  \n",
       "3                  No  Bank transfer (automatic)           42.30    No  \n",
       "4                 Yes           Electronic check           70.70   Yes  \n",
       "...               ...                        ...             ...   ...  \n",
       "7038              Yes               Mailed check           84.80    No  \n",
       "7039              Yes    Credit card (automatic)          103.20    No  \n",
       "7040              Yes           Electronic check           29.60    No  \n",
       "7041              Yes               Mailed check           74.40   Yes  \n",
       "7042              Yes  Bank transfer (automatic)          105.65    No  \n",
       "\n",
       "[7043 rows x 15 columns]>"
      ]
     },
     "execution_count": 3,
     "metadata": {},
     "output_type": "execute_result"
    }
   ],
   "source": [
    "data.info"
   ]
  },
  {
   "cell_type": "raw",
   "id": "214fcf1e",
   "metadata": {},
   "source": [
    "CATEGORICAL DATA:\n",
    "    1.Customer ID\n",
    "    2.Gender\n",
    "    3.SeniorCitizen\n",
    "    4.Partner\n",
    "    5.Department\n",
    "    6.PhoneService\n",
    "    7.OnlineBackup\n",
    "    8.TechSuppot\n",
    "    9.Contract\n",
    "    10.Paperless\n",
    "    11.Payment\n",
    "    12.Churn\n",
    "NUMERICAL DATA:\n",
    "    1.Tenure\n",
    "    2.Monthly Charges"
   ]
  },
  {
   "cell_type": "markdown",
   "id": "f5171946",
   "metadata": {},
   "source": [
    "### ANALYSIS OF CATEGORICAL DATA "
   ]
  },
  {
   "cell_type": "code",
   "execution_count": 5,
   "id": "523f9d23",
   "metadata": {},
   "outputs": [
    {
     "data": {
      "text/plain": [
       "Male      3555\n",
       "Female    3488\n",
       "Name: gender, dtype: int64"
      ]
     },
     "execution_count": 5,
     "metadata": {},
     "output_type": "execute_result"
    }
   ],
   "source": [
    "data[\"gender\"].value_counts()"
   ]
  },
  {
   "cell_type": "code",
   "execution_count": 6,
   "id": "04806965",
   "metadata": {},
   "outputs": [
    {
     "data": {
      "text/plain": [
       "Male      50.0\n",
       "Female    50.0\n",
       "Name: gender, dtype: float64"
      ]
     },
     "execution_count": 6,
     "metadata": {},
     "output_type": "execute_result"
    }
   ],
   "source": [
    "round(data[\"gender\"].value_counts(normalize=True)*100,0)"
   ]
  },
  {
   "cell_type": "code",
   "execution_count": 7,
   "id": "3f8a7bde",
   "metadata": {},
   "outputs": [
    {
     "name": "stderr",
     "output_type": "stream",
     "text": [
      "C:\\Users\\velur\\anaconda3\\lib\\site-packages\\seaborn\\_decorators.py:36: FutureWarning: Pass the following variable as a keyword arg: x. From version 0.12, the only valid positional argument will be `data`, and passing other arguments without an explicit keyword will result in an error or misinterpretation.\n",
      "  warnings.warn(\n"
     ]
    },
    {
     "data": {
      "text/plain": [
       "<AxesSubplot:xlabel='gender', ylabel='count'>"
      ]
     },
     "execution_count": 7,
     "metadata": {},
     "output_type": "execute_result"
    },
    {
     "data": {
      "image/png": "[encoded data removed]",
      "text/plain": [
       "<Figure size 432x288 with 1 Axes>"
      ]
     },
     "metadata": {
      "needs_background": "light"
     },
     "output_type": "display_data"
    }
   ],
   "source": [
    "sns.countplot(data.gender)"
   ]
  },
  {
   "cell_type": "raw",
   "id": "b30e9eea",
   "metadata": {},
   "source": [
    "The Percentage of Male(50%) and Female(50%) customers are equal "
   ]
  },
  {
   "cell_type": "code",
   "execution_count": 19,
   "id": "ca90a1f6",
   "metadata": {},
   "outputs": [
    {
     "data": {
      "text/plain": [
       "0    5901\n",
       "1    1142\n",
       "Name: SeniorCitizen, dtype: int64"
      ]
     },
     "execution_count": 19,
     "metadata": {},
     "output_type": "execute_result"
    }
   ],
   "source": [
    "data[\"SeniorCitizen\"].value_counts()"
   ]
  },
  {
   "cell_type": "code",
   "execution_count": 22,
   "id": "6dcf6025",
   "metadata": {},
   "outputs": [
    {
     "data": {
      "text/plain": [
       "0    0.837853\n",
       "1    0.162147\n",
       "Name: SeniorCitizen, dtype: float64"
      ]
     },
     "execution_count": 22,
     "metadata": {},
     "output_type": "execute_result"
    }
   ],
   "source": [
    "data[\"SeniorCitizen\"].value_counts(normalize=True)"
   ]
  },
  {
   "cell_type": "code",
   "execution_count": 24,
   "id": "fe1a90d5",
   "metadata": {},
   "outputs": [
    {
     "data": {
      "text/plain": [
       "<AxesSubplot:>"
      ]
     },
     "execution_count": 24,
     "metadata": {},
     "output_type": "execute_result"
    },
    {
     "data": {
      "image/png": "[encoded data removed]",
      "text/plain": [
       "<Figure size 432x288 with 1 Axes>"
      ]
     },
     "metadata": {
      "needs_background": "light"
     },
     "output_type": "display_data"
    }
   ],
   "source": [
    "data[\"SeniorCitizen\"].value_counts().plot(kind=\"bar\")"
   ]
  },
  {
   "cell_type": "raw",
   "id": "4ebec3a5",
   "metadata": {},
   "source": [
    "16% of people from the population are senior citizens"
   ]
  },
  {
   "cell_type": "code",
   "execution_count": 8,
   "id": "c7ea8658",
   "metadata": {},
   "outputs": [
    {
     "name": "stdout",
     "output_type": "stream",
     "text": [
      "male senior citizen 574\n",
      "female senior citizen 568\n"
     ]
    }
   ],
   "source": [
    "print(\"male senior citizen\",data[(data[\"gender\"]==\"Male\")&(data[\"SeniorCitizen\"]&[1])][\"SeniorCitizen\"].count())\n",
    "print(\"female senior citizen\",data[(data[\"gender\"]==\"Female\")&(data[\"SeniorCitizen\"]&[1])][\"SeniorCitizen\"].count())"
   ]
  },
  {
   "cell_type": "code",
   "execution_count": 15,
   "id": "d2d0cf37",
   "metadata": {},
   "outputs": [
    {
     "data": {
      "text/plain": [
       "gender  SeniorCitizen\n",
       "Female  0                84.0\n",
       "        1                16.0\n",
       "Male    0                84.0\n",
       "        1                16.0\n",
       "Name: SeniorCitizen, dtype: float64"
      ]
     },
     "execution_count": 15,
     "metadata": {},
     "output_type": "execute_result"
    }
   ],
   "source": [
    "round(data.groupby(\"gender\")[\"SeniorCitizen\"].value_counts(100)*100,0)"
   ]
  },
  {
   "cell_type": "code",
   "execution_count": 16,
   "id": "b6ebb5e0",
   "metadata": {},
   "outputs": [
    {
     "data": {
      "text/plain": [
       "0    5901\n",
       "1    1142\n",
       "Name: SeniorCitizen, dtype: int64"
      ]
     },
     "execution_count": 16,
     "metadata": {},
     "output_type": "execute_result"
    }
   ],
   "source": [
    "data[\"SeniorCitizen\"].value_counts()"
   ]
  },
  {
   "cell_type": "raw",
   "id": "e2e09ea8",
   "metadata": {},
   "source": [
    "16% of male customers are seniorcitizen\n",
    "16% of female customers are seniorcitizen"
   ]
  },
  {
   "cell_type": "code",
   "execution_count": 29,
   "id": "959173ef",
   "metadata": {},
   "outputs": [
    {
     "data": {
      "text/plain": [
       "<AxesSubplot:xlabel='gender,Partner'>"
      ]
     },
     "execution_count": 29,
     "metadata": {},
     "output_type": "execute_result"
    },
    {
     "data": {
      "image/png": "[encoded data removed]",
      "text/plain": [
       "<Figure size 432x288 with 1 Axes>"
      ]
     },
     "metadata": {
      "needs_background": "light"
     },
     "output_type": "display_data"
    }
   ],
   "source": [
    "data.groupby(\"gender\")[\"Partner\"].value_counts().plot(kind=\"bar\")"
   ]
  },
  {
   "cell_type": "code",
   "execution_count": 36,
   "id": "ddf38476",
   "metadata": {},
   "outputs": [
    {
     "name": "stderr",
     "output_type": "stream",
     "text": [
      "C:\\Users\\velur\\anaconda3\\lib\\site-packages\\seaborn\\_decorators.py:36: FutureWarning: Pass the following variable as a keyword arg: x. From version 0.12, the only valid positional argument will be `data`, and passing other arguments without an explicit keyword will result in an error or misinterpretation.\n",
      "  warnings.warn(\n"
     ]
    },
    {
     "data": {
      "text/plain": [
       "<AxesSubplot:xlabel='Partner', ylabel='count'>"
      ]
     },
     "execution_count": 36,
     "metadata": {},
     "output_type": "execute_result"
    },
    {
     "data": {
      "image/png": "[encoded data removed]",
      "text/plain": [
       "<Figure size 432x288 with 1 Axes>"
      ]
     },
     "metadata": {
      "needs_background": "light"
     },
     "output_type": "display_data"
    }
   ],
   "source": [
    "sns.countplot(data.Partner)"
   ]
  },
  {
   "cell_type": "code",
   "execution_count": 37,
   "id": "9d398b32",
   "metadata": {},
   "outputs": [
    {
     "data": {
      "text/plain": [
       "Yes    90.316626\n",
       "No      9.683374\n",
       "Name: PhoneService, dtype: float64"
      ]
     },
     "execution_count": 37,
     "metadata": {},
     "output_type": "execute_result"
    }
   ],
   "source": [
    "(data[\"PhoneService\"].value_counts(normalize=True)*100)"
   ]
  },
  {
   "cell_type": "code",
   "execution_count": 35,
   "id": "079496f1",
   "metadata": {},
   "outputs": [
    {
     "data": {
      "text/plain": [
       "<AxesSubplot:>"
      ]
     },
     "execution_count": 35,
     "metadata": {},
     "output_type": "execute_result"
    },
    {
     "data": {
      "image/png": "[encoded data removed]",
      "text/plain": [
       "<Figure size 432x288 with 1 Axes>"
      ]
     },
     "metadata": {
      "needs_background": "light"
     },
     "output_type": "display_data"
    }
   ],
   "source": [
    "data[\"PhoneService\"].value_counts().plot(kind=\"bar\")"
   ]
  },
  {
   "cell_type": "raw",
   "id": "1ea99401",
   "metadata": {},
   "source": [
    "90% of customers subscribed for phoneservices"
   ]
  },
  {
   "cell_type": "code",
   "execution_count": 41,
   "id": "fce63aa1",
   "metadata": {},
   "outputs": [
    {
     "data": {
      "text/plain": [
       "No                     44.0\n",
       "Yes                    34.0\n",
       "No internet service    22.0\n",
       "Name: OnlineBackup, dtype: float64"
      ]
     },
     "execution_count": 41,
     "metadata": {},
     "output_type": "execute_result"
    }
   ],
   "source": [
    "round(data[\"OnlineBackup\"].value_counts(normalize=True)*100,0)"
   ]
  },
  {
   "cell_type": "code",
   "execution_count": 39,
   "id": "63dab1a9",
   "metadata": {},
   "outputs": [
    {
     "data": {
      "text/plain": [
       "<AxesSubplot:>"
      ]
     },
     "execution_count": 39,
     "metadata": {},
     "output_type": "execute_result"
    },
    {
     "data": {
      "image/png": "[encoded data removed]",
      "text/plain": [
       "<Figure size 432x288 with 1 Axes>"
      ]
     },
     "metadata": {
      "needs_background": "light"
     },
     "output_type": "display_data"
    }
   ],
   "source": [
    "data[\"OnlineBackup\"].value_counts().plot(kind=\"bar\")"
   ]
  },
  {
   "cell_type": "raw",
   "id": "4944ac4c",
   "metadata": {},
   "source": [
    "From the above we observe that 44% of people aren't aware of OnlineBackup so we have to spread awareness and use of OnlineBackup\n",
    "\n",
    "22% of people don't have internet connection"
   ]
  },
  {
   "cell_type": "code",
   "execution_count": 42,
   "id": "404ad6ea",
   "metadata": {},
   "outputs": [
    {
     "data": {
      "text/plain": [
       "No                     40.0\n",
       "Yes                    38.0\n",
       "No internet service    22.0\n",
       "Name: StreamingTV, dtype: float64"
      ]
     },
     "execution_count": 42,
     "metadata": {},
     "output_type": "execute_result"
    }
   ],
   "source": [
    "round(data[\"StreamingTV\"].value_counts(normalize=True)*100,0)"
   ]
  },
  {
   "cell_type": "code",
   "execution_count": 43,
   "id": "bb2686e2",
   "metadata": {},
   "outputs": [
    {
     "data": {
      "text/plain": [
       "<AxesSubplot:>"
      ]
     },
     "execution_count": 43,
     "metadata": {},
     "output_type": "execute_result"
    },
    {
     "data": {
      "image/png": "[encoded data removed]",
      "text/plain": [
       "<Figure size 432x288 with 1 Axes>"
      ]
     },
     "metadata": {
      "needs_background": "light"
     },
     "output_type": "display_data"
    }
   ],
   "source": [
    "data[\"StreamingTV\"].value_counts().plot(kind=\"bar\")"
   ]
  },
  {
   "cell_type": "raw",
   "id": "17969296",
   "metadata": {},
   "source": [
    "38% of people opted for TV Streaming service\n",
    "40% of people did'nt opted for TV Streaming service\n",
    "22% of people don't have internet connection"
   ]
  },
  {
   "cell_type": "code",
   "execution_count": 48,
   "id": "db57fce8",
   "metadata": {},
   "outputs": [
    {
     "data": {
      "text/plain": [
       "Month-to-month    55.0\n",
       "Two year          24.0\n",
       "One year          21.0\n",
       "Name: Contract, dtype: float64"
      ]
     },
     "execution_count": 48,
     "metadata": {},
     "output_type": "execute_result"
    }
   ],
   "source": [
    "round(data[\"Contract\"].value_counts(normalize=True)*100,0)"
   ]
  },
  {
   "cell_type": "code",
   "execution_count": 46,
   "id": "a1032008",
   "metadata": {},
   "outputs": [
    {
     "data": {
      "text/plain": [
       "<AxesSubplot:>"
      ]
     },
     "execution_count": 46,
     "metadata": {},
     "output_type": "execute_result"
    },
    {
     "data": {
      "image/png": "[encoded data removed]",
      "text/plain": [
       "<Figure size 432x288 with 1 Axes>"
      ]
     },
     "metadata": {
      "needs_background": "light"
     },
     "output_type": "display_data"
    }
   ],
   "source": [
    "data[\"Contract\"].value_counts().plot(kind=\"bar\")"
   ]
  },
  {
   "cell_type": "raw",
   "id": "6dceeadf",
   "metadata": {},
   "source": [
    "55% of people make Month-to-Month contract and yearly contract percentages are low so we have revice the offers for yearly contract"
   ]
  },
  {
   "cell_type": "code",
   "execution_count": 49,
   "id": "8aa6b235",
   "metadata": {},
   "outputs": [
    {
     "data": {
      "text/plain": [
       "Electronic check             34.0\n",
       "Mailed check                 23.0\n",
       "Bank transfer (automatic)    22.0\n",
       "Credit card (automatic)      22.0\n",
       "Name: PaymentMethod, dtype: float64"
      ]
     },
     "execution_count": 49,
     "metadata": {},
     "output_type": "execute_result"
    }
   ],
   "source": [
    "round(data[\"PaymentMethod\"].value_counts(normalize=True)*100,0)"
   ]
  },
  {
   "cell_type": "code",
   "execution_count": 50,
   "id": "f601d83d",
   "metadata": {},
   "outputs": [
    {
     "data": {
      "text/plain": [
       "<AxesSubplot:>"
      ]
     },
     "execution_count": 50,
     "metadata": {},
     "output_type": "execute_result"
    },
    {
     "data": {
      "image/png": "[encoded data removed]",
      "text/plain": [
       "<Figure size 432x288 with 1 Axes>"
      ]
     },
     "metadata": {
      "needs_background": "light"
     },
     "output_type": "display_data"
    }
   ],
   "source": [
    "data[\"PaymentMethod\"].value_counts().plot(kind=\"bar\")"
   ]
  },
  {
   "cell_type": "markdown",
   "id": "b88ddec3",
   "metadata": {},
   "source": [
    "### ANALYSIS OF NUMERICAL DATA"
   ]
  },
  {
   "cell_type": "code",
   "execution_count": 58,
   "id": "e934332c",
   "metadata": {},
   "outputs": [],
   "source": [
    "from statsmodels.stats import descriptivestats"
   ]
  },
  {
   "cell_type": "markdown",
   "id": "b04d669b",
   "metadata": {},
   "source": [
    "###### MEASURES OF LOCATION"
   ]
  },
  {
   "cell_type": "code",
   "execution_count": 54,
   "id": "a4ae2aec",
   "metadata": {},
   "outputs": [
    {
     "data": {
      "text/plain": [
       "9.0"
      ]
     },
     "execution_count": 54,
     "metadata": {},
     "output_type": "execute_result"
    }
   ],
   "source": [
    "#first quartile (Q1)\n",
    "data.tenure.quantile(.25)"
   ]
  },
  {
   "cell_type": "code",
   "execution_count": 55,
   "id": "fb56f510",
   "metadata": {},
   "outputs": [
    {
     "data": {
      "text/plain": [
       "29.0"
      ]
     },
     "execution_count": 55,
     "metadata": {},
     "output_type": "execute_result"
    }
   ],
   "source": [
    "#second quartile (Q2)\n",
    "data.tenure.quantile(.50)"
   ]
  },
  {
   "cell_type": "code",
   "execution_count": 57,
   "id": "95904c3d",
   "metadata": {},
   "outputs": [
    {
     "data": {
      "text/plain": [
       "55.0"
      ]
     },
     "execution_count": 57,
     "metadata": {},
     "output_type": "execute_result"
    }
   ],
   "source": [
    "#third quartile (Q3)\n",
    "data.tenure.quantile(.75)"
   ]
  },
  {
   "cell_type": "markdown",
   "id": "08619836",
   "metadata": {},
   "source": [
    "###### MEASURES OF CENTRAL TENDENCY"
   ]
  },
  {
   "cell_type": "code",
   "execution_count": 61,
   "id": "6bb9ce95",
   "metadata": {},
   "outputs": [
    {
     "name": "stdout",
     "output_type": "stream",
     "text": [
      "The mean of the tenure is  32.37114865824223\n"
     ]
    }
   ],
   "source": [
    "#MEAN\n",
    "print(\"The mean of the tenure is \",data[\"tenure\"].mean())"
   ]
  },
  {
   "cell_type": "code",
   "execution_count": 62,
   "id": "b6471a83",
   "metadata": {},
   "outputs": [
    {
     "name": "stdout",
     "output_type": "stream",
     "text": [
      "The middle value of tenure is  29.0\n"
     ]
    }
   ],
   "source": [
    "#MEDIAN\n",
    "print(\"The middle value of tenure is \",data[\"tenure\"].median())"
   ]
  },
  {
   "cell_type": "code",
   "execution_count": 64,
   "id": "93876020",
   "metadata": {},
   "outputs": [
    {
     "name": "stdout",
     "output_type": "stream",
     "text": [
      "The most repeated value (mode) is  0    1\n",
      "Name: tenure, dtype: int64\n"
     ]
    }
   ],
   "source": [
    "#MODE\n",
    "print(\"The most repeated value (mode) is \",data[\"tenure\"].mode())"
   ]
  },
  {
   "cell_type": "markdown",
   "id": "6a4dbdd7",
   "metadata": {},
   "source": [
    "###### MEASURES OF DISPERSION"
   ]
  },
  {
   "cell_type": "code",
   "execution_count": 67,
   "id": "b0300aa3",
   "metadata": {},
   "outputs": [
    {
     "data": {
      "text/plain": [
       "72"
      ]
     },
     "execution_count": 67,
     "metadata": {},
     "output_type": "execute_result"
    }
   ],
   "source": [
    "#RANGE\n",
    "range_tenure=data.tenure.max()-data.tenure.min()\n",
    "range_tenure"
   ]
  },
  {
   "cell_type": "code",
   "execution_count": 69,
   "id": "711e0b94",
   "metadata": {},
   "outputs": [
    {
     "data": {
      "text/plain": [
       "21.8730899289692"
      ]
     },
     "execution_count": 69,
     "metadata": {},
     "output_type": "execute_result"
    }
   ],
   "source": [
    "#Mean Absolute Deviation\n",
    "mad_tenure=data.tenure.mad()\n",
    "mad_tenure"
   ]
  },
  {
   "cell_type": "code",
   "execution_count": 70,
   "id": "9a9095a7",
   "metadata": {},
   "outputs": [
    {
     "data": {
      "text/plain": [
       "603.1681081237256"
      ]
     },
     "execution_count": 70,
     "metadata": {},
     "output_type": "execute_result"
    }
   ],
   "source": [
    "#Variance\n",
    "msd_tenure=data.tenure.var()\n",
    "msd_tenure"
   ]
  },
  {
   "cell_type": "code",
   "execution_count": 71,
   "id": "41e1ea23",
   "metadata": {},
   "outputs": [
    {
     "data": {
      "text/plain": [
       "24.55948102309423"
      ]
     },
     "execution_count": 71,
     "metadata": {},
     "output_type": "execute_result"
    }
   ],
   "source": [
    "#Standard deviation\n",
    "std_tenure=data.tenure.std()\n",
    "std_tenure"
   ]
  },
  {
   "cell_type": "code",
   "execution_count": 81,
   "id": "7807c35a",
   "metadata": {},
   "outputs": [
    {
     "data": {
      "text/plain": [
       "75.86842617906603"
      ]
     },
     "execution_count": 81,
     "metadata": {},
     "output_type": "execute_result"
    }
   ],
   "source": [
    "# Coefficient of variation\n",
    "cv_tenure=(data.tenure.std()/data.tenure.mean())*100\n",
    "cv_tenure"
   ]
  },
  {
   "cell_type": "raw",
   "id": "4010854a",
   "metadata": {},
   "source": [
    "The Coefficient of variation is above 60% (cv_tenure=75.8%) so the data is spread"
   ]
  },
  {
   "cell_type": "markdown",
   "id": "e631327f",
   "metadata": {},
   "source": [
    "###### MEASURES OF DISTRIBUTION SHAPE"
   ]
  },
  {
   "cell_type": "code",
   "execution_count": 83,
   "id": "bda019b4",
   "metadata": {},
   "outputs": [
    {
     "data": {
      "text/plain": [
       "0.2395397495619829"
      ]
     },
     "execution_count": 83,
     "metadata": {},
     "output_type": "execute_result"
    }
   ],
   "source": [
    "#skewness\n",
    "data.tenure.skew()"
   ]
  },
  {
   "cell_type": "code",
   "execution_count": 85,
   "id": "da5bfe99",
   "metadata": {},
   "outputs": [
    {
     "data": {
      "text/plain": [
       "-1.387371635971685"
      ]
     },
     "execution_count": 85,
     "metadata": {},
     "output_type": "execute_result"
    }
   ],
   "source": [
    "#kurtosis\n",
    "data.tenure.kurt()"
   ]
  },
  {
   "cell_type": "code",
   "execution_count": 90,
   "id": "c1d50bcc",
   "metadata": {},
   "outputs": [
    {
     "name": "stderr",
     "output_type": "stream",
     "text": [
      "C:\\Users\\velur\\anaconda3\\lib\\site-packages\\seaborn\\distributions.py:2619: FutureWarning: `distplot` is a deprecated function and will be removed in a future version. Please adapt your code to use either `displot` (a figure-level function with similar flexibility) or `kdeplot` (an axes-level function for kernel density plots).\n",
      "  warnings.warn(msg, FutureWarning)\n"
     ]
    },
    {
     "data": {
      "text/plain": [
       "<AxesSubplot:xlabel='tenure', ylabel='Density'>"
      ]
     },
     "execution_count": 90,
     "metadata": {},
     "output_type": "execute_result"
    },
    {
     "data": {
      "image/png": "[encoded data removed]",
      "text/plain": [
       "<Figure size 432x288 with 1 Axes>"
      ]
     },
     "metadata": {
      "needs_background": "light"
     },
     "output_type": "display_data"
    }
   ],
   "source": [
    "sns.distplot(data.tenure,hist=False)"
   ]
  },
  {
   "cell_type": "markdown",
   "id": "e02df343",
   "metadata": {},
   "source": [
    "###### MEASURES OF LOCATION"
   ]
  },
  {
   "cell_type": "code",
   "execution_count": 87,
   "id": "d31b8b54",
   "metadata": {},
   "outputs": [
    {
     "data": {
      "text/plain": [
       "35.5"
      ]
     },
     "execution_count": 87,
     "metadata": {},
     "output_type": "execute_result"
    }
   ],
   "source": [
    "#For Monthly Charges\n",
    "#first quartile (Q1)\n",
    "data.MonthlyCharges.quantile(.25)"
   ]
  },
  {
   "cell_type": "code",
   "execution_count": 88,
   "id": "9f776fb9",
   "metadata": {},
   "outputs": [
    {
     "data": {
      "text/plain": [
       "70.35"
      ]
     },
     "execution_count": 88,
     "metadata": {},
     "output_type": "execute_result"
    }
   ],
   "source": [
    "#second quartile (Q2)\n",
    "data.MonthlyCharges.quantile(.5)"
   ]
  },
  {
   "cell_type": "code",
   "execution_count": 91,
   "id": "6d3df1bf",
   "metadata": {},
   "outputs": [
    {
     "data": {
      "text/plain": [
       "89.85"
      ]
     },
     "execution_count": 91,
     "metadata": {},
     "output_type": "execute_result"
    }
   ],
   "source": [
    "#Third Quartile (Q3)\n",
    "data.MonthlyCharges.quantile(.75)"
   ]
  },
  {
   "cell_type": "markdown",
   "id": "76d48e70",
   "metadata": {},
   "source": [
    "###### MEASURES OF CENTRAL TENDENCY"
   ]
  },
  {
   "cell_type": "code",
   "execution_count": 92,
   "id": "0134cd36",
   "metadata": {},
   "outputs": [
    {
     "name": "stdout",
     "output_type": "stream",
     "text": [
      "The mean of the tenure is  64.76169246059922\n"
     ]
    }
   ],
   "source": [
    "#MEAN\n",
    "print(\"The mean of the tenure is \",data[\"MonthlyCharges\"].mean())"
   ]
  },
  {
   "cell_type": "code",
   "execution_count": 93,
   "id": "decf0f76",
   "metadata": {},
   "outputs": [
    {
     "name": "stdout",
     "output_type": "stream",
     "text": [
      "The median of the tenure is  70.35\n"
     ]
    }
   ],
   "source": [
    "#MEDIAN\n",
    "print(\"The median of the tenure is \",data[\"MonthlyCharges\"].median())"
   ]
  },
  {
   "cell_type": "code",
   "execution_count": 94,
   "id": "faa5d486",
   "metadata": {},
   "outputs": [
    {
     "name": "stdout",
     "output_type": "stream",
     "text": [
      "The mode of the tenure is  0    20.05\n",
      "Name: MonthlyCharges, dtype: float64\n"
     ]
    }
   ],
   "source": [
    "#MODE\n",
    "print(\"The mode of the tenure is \",data[\"MonthlyCharges\"].mode())"
   ]
  },
  {
   "cell_type": "markdown",
   "id": "434f0689",
   "metadata": {},
   "source": [
    "###### MEASURES OF DISPERSION"
   ]
  },
  {
   "cell_type": "code",
   "execution_count": 95,
   "id": "44660ac8",
   "metadata": {},
   "outputs": [
    {
     "data": {
      "text/plain": [
       "100.5"
      ]
     },
     "execution_count": 95,
     "metadata": {},
     "output_type": "execute_result"
    }
   ],
   "source": [
    "#RANGE\n",
    "range_monthlycharges=data.MonthlyCharges.max()-data.MonthlyCharges.min()\n",
    "range_monthlycharges"
   ]
  },
  {
   "cell_type": "code",
   "execution_count": 97,
   "id": "6740a8d4",
   "metadata": {},
   "outputs": [
    {
     "data": {
      "text/plain": [
       "26.222101512727452"
      ]
     },
     "execution_count": 97,
     "metadata": {},
     "output_type": "execute_result"
    }
   ],
   "source": [
    "#Mean Absolute Deviation\n",
    "mad_monthlycharges=data.MonthlyCharges.mad()\n",
    "mad_monthlycharges"
   ]
  },
  {
   "cell_type": "code",
   "execution_count": 98,
   "id": "bb14cf93",
   "metadata": {},
   "outputs": [
    {
     "data": {
      "text/plain": [
       "905.4109343405128"
      ]
     },
     "execution_count": 98,
     "metadata": {},
     "output_type": "execute_result"
    }
   ],
   "source": [
    "#Variance\n",
    "msd_monthlycharges=data.MonthlyCharges.var()\n",
    "msd_monthlycharges"
   ]
  },
  {
   "cell_type": "code",
   "execution_count": 99,
   "id": "3bd52415",
   "metadata": {},
   "outputs": [
    {
     "data": {
      "text/plain": [
       "30.09004709767854"
      ]
     },
     "execution_count": 99,
     "metadata": {},
     "output_type": "execute_result"
    }
   ],
   "source": [
    "#Standard deviation\n",
    "std_monthlycharges=data.MonthlyCharges.std()\n",
    "std_monthlycharges"
   ]
  },
  {
   "cell_type": "code",
   "execution_count": 101,
   "id": "4a3b8cbe",
   "metadata": {},
   "outputs": [
    {
     "data": {
      "text/plain": [
       "46.462725037621915"
      ]
     },
     "execution_count": 101,
     "metadata": {},
     "output_type": "execute_result"
    }
   ],
   "source": [
    "#Coefficient of variation\n",
    "cv_monthlycharges=(data.MonthlyCharges.std()/data.MonthlyCharges.mean())*100\n",
    "cv_monthlycharges"
   ]
  },
  {
   "cell_type": "markdown",
   "id": "553f1b87",
   "metadata": {},
   "source": [
    "###### MEASURES OF DISTRIBUTION SHAPE"
   ]
  },
  {
   "cell_type": "code",
   "execution_count": 102,
   "id": "37de28d1",
   "metadata": {},
   "outputs": [
    {
     "data": {
      "text/plain": [
       "-0.22052443394398033"
      ]
     },
     "execution_count": 102,
     "metadata": {},
     "output_type": "execute_result"
    }
   ],
   "source": [
    "#skewness\n",
    "data.MonthlyCharges.skew()"
   ]
  },
  {
   "cell_type": "code",
   "execution_count": 103,
   "id": "d7adf484",
   "metadata": {},
   "outputs": [
    {
     "data": {
      "text/plain": [
       "-1.2572596945495056"
      ]
     },
     "execution_count": 103,
     "metadata": {},
     "output_type": "execute_result"
    }
   ],
   "source": [
    "#kurtosis\n",
    "data.MonthlyCharges.kurt()"
   ]
  },
  {
   "cell_type": "code",
   "execution_count": 105,
   "id": "55ff86db",
   "metadata": {},
   "outputs": [
    {
     "name": "stderr",
     "output_type": "stream",
     "text": [
      "C:\\Users\\velur\\anaconda3\\lib\\site-packages\\seaborn\\distributions.py:2619: FutureWarning: `distplot` is a deprecated function and will be removed in a future version. Please adapt your code to use either `displot` (a figure-level function with similar flexibility) or `kdeplot` (an axes-level function for kernel density plots).\n",
      "  warnings.warn(msg, FutureWarning)\n"
     ]
    },
    {
     "data": {
      "text/plain": [
       "<AxesSubplot:xlabel='MonthlyCharges', ylabel='Density'>"
      ]
     },
     "execution_count": 105,
     "metadata": {},
     "output_type": "execute_result"
    },
    {
     "data": {
      "image/png": "[encoded data removed]",
      "text/plain": [
       "<Figure size 432x288 with 1 Axes>"
      ]
     },
     "metadata": {
      "needs_background": "light"
     },
     "output_type": "display_data"
    }
   ],
   "source": [
    "sns.distplot(data.MonthlyCharges,hist=False)"
   ]
  },
  {
   "cell_type": "markdown",
   "id": "861b5df0",
   "metadata": {},
   "source": [
    "###### MEASURES OF RELATIONSHIP"
   ]
  },
  {
   "cell_type": "code",
   "execution_count": 111,
   "id": "40bf61a1",
   "metadata": {},
   "outputs": [
    {
     "data": {
      "text/html": [
       "<div>\n",
       "<style scoped>\n",
       "    .dataframe tbody tr th:only-of-type {\n",
       "        vertical-align: middle;\n",
       "    }\n",
       "\n",
       "    .dataframe tbody tr th {\n",
       "        vertical-align: top;\n",
       "    }\n",
       "\n",
       "    .dataframe thead th {\n",
       "        text-align: right;\n",
       "    }\n",
       "</style>\n",
       "<table border=\"1\" class=\"dataframe\">\n",
       "  <thead>\n",
       "    <tr style=\"text-align: right;\">\n",
       "      <th></th>\n",
       "      <th>tenure</th>\n",
       "      <th>MonthlyCharges</th>\n",
       "    </tr>\n",
       "  </thead>\n",
       "  <tbody>\n",
       "    <tr>\n",
       "      <th>tenure</th>\n",
       "      <td>1.0000</td>\n",
       "      <td>0.2479</td>\n",
       "    </tr>\n",
       "    <tr>\n",
       "      <th>MonthlyCharges</th>\n",
       "      <td>0.2479</td>\n",
       "      <td>1.0000</td>\n",
       "    </tr>\n",
       "  </tbody>\n",
       "</table>\n",
       "</div>"
      ],
      "text/plain": [
       "                tenure  MonthlyCharges\n",
       "tenure          1.0000          0.2479\n",
       "MonthlyCharges  0.2479          1.0000"
      ]
     },
     "execution_count": 111,
     "metadata": {},
     "output_type": "execute_result"
    }
   ],
   "source": [
    "data[[\"tenure\",\"MonthlyCharges\"]].corr()"
   ]
  },
  {
   "cell_type": "markdown",
   "id": "07123842",
   "metadata": {},
   "source": [
    "The correlation between tenure and MonthlyCharges is 0.2479 which is weak +ve"
   ]
  },
  {
   "cell_type": "code",
   "execution_count": 109,
   "id": "4dbfd2a6",
   "metadata": {},
   "outputs": [
    {
     "data": {
      "text/plain": [
       "<AxesSubplot:>"
      ]
     },
     "execution_count": 109,
     "metadata": {},
     "output_type": "execute_result"
    },
    {
     "data": {
      "image/png": "[encoded data removed]",
      "text/plain": [
       "<Figure size 432x288 with 2 Axes>"
      ]
     },
     "metadata": {
      "needs_background": "light"
     },
     "output_type": "display_data"
    }
   ],
   "source": [
    "sns.heatmap(data[[\"tenure\",\"MonthlyCharges\"]].corr())"
   ]
  },
  {
   "cell_type": "code",
   "execution_count": null,
   "id": "b7c050df",
   "metadata": {},
   "outputs": [],
   "source": []
  },
  {
   "cell_type": "code",
   "execution_count": null,
   "id": "3a05cc39",
   "metadata": {},
   "outputs": [],
   "source": []
  }
 ],
 "metadata": {
  "kernelspec": {
   "display_name": "Python 3 (ipykernel)",
   "language": "python",
   "name": "python3"
  },
  "language_info": {
   "codemirror_mode": {
    "name": "ipython",
    "version": 3
   },
   "file_extension": ".py",
   "mimetype": "text/x-python",
   "name": "python",
   "nbconvert_exporter": "python",
   "pygments_lexer": "ipython3",
   "version": "3.9.12"
  }
 },
 "nbformat": 4,
 "nbformat_minor": 5
}
