{
 "cells": [
  {
   "cell_type": "code",
   "execution_count": 2,
   "id": "94cbbbce",
   "metadata": {},
   "outputs": [],
   "source": [
    "import numpy as np\n",
    "import pandas as pd\n",
    "import seaborn as sns \n",
    "import matplotlib.pyplot as plt\n",
    "import scipy.stats as st\n",
    "import statsmodels.stats as stm"
   ]
  },
  {
   "cell_type": "raw",
   "id": "333a60b5",
   "metadata": {},
   "source": [
    "Q1 (Binomial Distribution)\n",
    "    After demonetisation customers stand in the queue at ATM’s to get new \n",
    "currencies. It was found that the probability of getting a new currency of \n",
    "Rs.2000 by a customer is 0.67. In a randomly selected 5 customers what \n",
    "is the probability that \n",
    " (a) None got new Rs.2000 currency\n",
    " (b) Between 2 to 4 got new Rs.2000 currency\n",
    " (c) More than 4 got new Rs.2000 currency"
   ]
  },
  {
   "cell_type": "code",
   "execution_count": 11,
   "id": "ce3e2455",
   "metadata": {},
   "outputs": [],
   "source": [
    "n=5\n",
    "p=0.67\n",
    "q=1-p"
   ]
  },
  {
   "cell_type": "code",
   "execution_count": 12,
   "id": "1e7842c7",
   "metadata": {},
   "outputs": [
    {
     "name": "stdout",
     "output_type": "stream",
     "text": [
      "The probability of none getting the new Rs.2000 currency is 0.39\n"
     ]
    }
   ],
   "source": [
    "#(a) None got new Rs.2000 currency\n",
    "x1=0\n",
    "print(\"The probability of none getting the new Rs.2000 currency is\",round(st.binom.pmf(x1,n,p)*100,2))"
   ]
  },
  {
   "cell_type": "code",
   "execution_count": 13,
   "id": "43a98b00",
   "metadata": {},
   "outputs": [
    {
     "name": "stdout",
     "output_type": "stream",
     "text": [
      "The probability of getting new Rs.2000 between 2 to 4 customers are 66.0\n"
     ]
    }
   ],
   "source": [
    "#(b) Between 2 to 4 got new Rs.2000 currency\n",
    "print(\"The probability of getting new Rs.2000 between 2 to 4 customers are\",round((st.binom.cdf(4,n,p)-st.binom.cdf(2,n,p))*100,2))"
   ]
  },
  {
   "cell_type": "code",
   "execution_count": 14,
   "id": "18b77476",
   "metadata": {},
   "outputs": [
    {
     "name": "stdout",
     "output_type": "stream",
     "text": [
      "The probability of getting new Rs.2000 more than 4 customers are 13.5\n"
     ]
    }
   ],
   "source": [
    "#(c) More than 4 got new Rs.2000 currency\n",
    "print(\"The probability of getting new Rs.2000 more than 4 customers are\",round(st.binom.sf(4,n,p)*100,2))"
   ]
  },
  {
   "cell_type": "raw",
   "id": "74384eb8",
   "metadata": {},
   "source": [
    "Q2 (Normal Distribution)\n",
    "    The sick-leave time of employees in a firm in a month is normally \n",
    "distributed with mean of 100 hours and a variance of 400 hours.\n",
    " (a) What is the probability that all the sick-leave time for next time will \n",
    " lie between 50 and 80 hours?\n",
    " (b) What is the probability that all the sick-leave time for next time will \n",
    " be 100 hours?"
   ]
  },
  {
   "cell_type": "code",
   "execution_count": 15,
   "id": "a625546b",
   "metadata": {},
   "outputs": [],
   "source": [
    "mu=100\n",
    "sigma=np.sqrt(400)"
   ]
  },
  {
   "cell_type": "code",
   "execution_count": 16,
   "id": "7d17a7e4",
   "metadata": {},
   "outputs": [
    {
     "name": "stdout",
     "output_type": "stream",
     "text": [
      "15.24 % of employees will have sick-leave time betwee 50 to 80 hours next time\n"
     ]
    }
   ],
   "source": [
    "#(a) What is the probability that all the sick-leave time for next time will lie between 50 and 80 hours?\n",
    "print(round((st.norm.cdf(80,mu,sigma)-st.norm.cdf(50,mu,sigma))*100,2),\"% of employees will have sick-leave time betwee 50 to 80 hours next time\")"
   ]
  },
  {
   "cell_type": "code",
   "execution_count": 17,
   "id": "fc973256",
   "metadata": {},
   "outputs": [
    {
     "name": "stdout",
     "output_type": "stream",
     "text": [
      "1.99 % of employees will have sick-leave time of 100 hours next time\n"
     ]
    }
   ],
   "source": [
    "# (b) What is the probability that all the sick-leave time for next time will be 100 hours?\n",
    "print(round(st.norm.pdf(100,mu,sigma)*100,2),\"% of employees will have sick-leave time of 100 hours next time\")"
   ]
  },
  {
   "cell_type": "raw",
   "id": "6c4367a7",
   "metadata": {},
   "source": [
    "Q3 (Poisson Distribution)\n",
    "Twenty sheets of aluminium alloy were examined for surface flaws. The \n",
    "frequency of the number of sheets with a given number of flaws per sheet \n",
    "was as follows:\n",
    "        No. of flaws 0 1 2 3 4 5 6\n",
    "        Frequency    4 3 5 2 4 1 1\n",
    "What is the probability of finding a sheet chosen at random which contains \n",
    "3 or more surface flaws?"
   ]
  },
  {
   "cell_type": "code",
   "execution_count": 18,
   "id": "15d159bf",
   "metadata": {},
   "outputs": [
    {
     "name": "stdout",
     "output_type": "stream",
     "text": [
      "40.4 % of sheets choosen at random will have 3 or more surface flaws\n"
     ]
    }
   ],
   "source": [
    "lamda=2.3\n",
    "x=3\n",
    "print(round(st.poisson.sf(x-1,lamda)*100,2),\"% of sheets choosen at random will have 3 or more surface flaws\")"
   ]
  },
  {
   "cell_type": "raw",
   "id": "e6f9394f",
   "metadata": {},
   "source": [
    "Q4 (poisson distribution)\n",
    "    A life insurance salesman sells on the average 3 life insurance policies \n",
    "per week. Use Poisson's law to calculate the probability that in a given week \n",
    "he will sell\n",
    " (a) Some policies\n",
    " (b) 2 or more policies but less than 5 policies.\n",
    " (c) Assuming that there are 5 working days per week, what is the \n",
    " probability that in a given day he will sell one policy?"
   ]
  },
  {
   "cell_type": "code",
   "execution_count": 19,
   "id": "ed99a10e",
   "metadata": {},
   "outputs": [],
   "source": [
    "lamda1=3"
   ]
  },
  {
   "cell_type": "code",
   "execution_count": 20,
   "id": "7626b3f9",
   "metadata": {},
   "outputs": [
    {
     "name": "stdout",
     "output_type": "stream",
     "text": [
      "There is  95.02 % chance for a insurance sales man to sell some policies in a week\n"
     ]
    }
   ],
   "source": [
    "#(a) Some policies\n",
    "x=1\n",
    "print(\"There is \",round(st.poisson.sf(x-1,lamda1)*100,2),\"% chance for a insurance sales man to sell some policies in a week\")"
   ]
  },
  {
   "cell_type": "code",
   "execution_count": 12,
   "id": "5ec70e37",
   "metadata": {},
   "outputs": [
    {
     "name": "stdout",
     "output_type": "stream",
     "text": [
      "The chance of selling 2 or more but less than 5 policies by a salesman is 61.61 %\n"
     ]
    }
   ],
   "source": [
    "#(b) 2 or more policies but less than 5 policies.\n",
    "print(\"The chance of selling 2 or more but less than 5 policies by a salesman is\",round((st.poisson.cdf(4,lamda1)-st.poisson.cdf(1,lamda1))*100,2),\"%\")"
   ]
  },
  {
   "cell_type": "code",
   "execution_count": 13,
   "id": "48e88ad3",
   "metadata": {},
   "outputs": [
    {
     "name": "stdout",
     "output_type": "stream",
     "text": [
      "In 5 working days a week the chance of selling a policy is 32.93 %\n"
     ]
    }
   ],
   "source": [
    "#(c) Assuming that there are 5 working days per week, what is the probability that in a given day he will sell one policy?\n",
    "lamda2=3/5\n",
    "print(\"In 5 working days a week the chance of selling a policy is\",round(st.poisson.pmf(1,lamda2)*100,2),\"%\")"
   ]
  },
  {
   "cell_type": "raw",
   "id": "9546f7c7",
   "metadata": {},
   "source": [
    "Q5\n",
    "Police records show that number of accident victims died in road traffic \n",
    "accidents is 75%. What is the probability that among 6 randomly selected \n",
    "accident victims 4 will survivor?"
   ]
  },
  {
   "cell_type": "code",
   "execution_count": 13,
   "id": "27273585",
   "metadata": {},
   "outputs": [
    {
     "name": "stdout",
     "output_type": "stream",
     "text": [
      "18.98 % of accident victims will be the surviviors among 6 randomly selected accident victims\n"
     ]
    }
   ],
   "source": [
    "p=0.75\n",
    "n=6\n",
    "lamda=n*p\n",
    "print(round(st.poisson.pmf(4,lamda)*100,2),\"% of accident victims will be the surviviors among 6 randomly selected accident victims\")"
   ]
  },
  {
   "cell_type": "raw",
   "id": "5f46cd3d",
   "metadata": {},
   "source": [
    "Q6\n",
    "A nationalized bank sanctions personal loan for its customers. If the \n",
    "probability of sanctioning loan by the bank is 0.67. If 6 persons are selected \n",
    "at random what is the probability that\n",
    "(a) None were sanctioned loan?\n",
    "(b) Between 1 to 4 were sanctioned the loan?\n",
    "(c) More than 4 were sanctioned the loan?"
   ]
  },
  {
   "cell_type": "code",
   "execution_count": 15,
   "id": "995a8cf3",
   "metadata": {},
   "outputs": [],
   "source": [
    "n=6\n",
    "p=0.67"
   ]
  },
  {
   "cell_type": "code",
   "execution_count": 16,
   "id": "8d616dc1",
   "metadata": {},
   "outputs": [
    {
     "name": "stdout",
     "output_type": "stream",
     "text": [
      "There is 0.13 % of chance that none were sanctioned loan\n"
     ]
    }
   ],
   "source": [
    "#(a) None were sanctioned loan?\n",
    "print(\"There is\",round(st.binom.pmf(0,n,p)*100,2),\"% of chance that none were sanctioned loan\")"
   ]
  },
  {
   "cell_type": "code",
   "execution_count": 17,
   "id": "ea037f88",
   "metadata": {},
   "outputs": [
    {
     "name": "stdout",
     "output_type": "stream",
     "text": [
      "There is 62.52 % of chance that between 1 to 4 customers will be sanctioned with loan\n"
     ]
    }
   ],
   "source": [
    "#(b) Between 1 to 4 were sanctioned the loan?\n",
    "print(\"There is\",round((st.binom.cdf(4,n,p)-st.binom.cdf(1,n,p))*100,2),\"% of chance that between 1 to 4 customers will be sanctioned with loan\")"
   ]
  },
  {
   "cell_type": "code",
   "execution_count": 18,
   "id": "4ab023dc",
   "metadata": {},
   "outputs": [
    {
     "name": "stdout",
     "output_type": "stream",
     "text": [
      "There is 32.92 % of chance that more than 4 customers will be sanctioned with loan\n"
     ]
    }
   ],
   "source": [
    "#(c) More than 4 were sanctioned the loan?\n",
    "print(\"There is\",round(st.binom.pmf(4,n,p)*100,2),\"% of chance that more than 4 customers will be sanctioned with loan\")"
   ]
  },
  {
   "cell_type": "raw",
   "id": "660685c7",
   "metadata": {},
   "source": [
    "Q7\n",
    "Create population data (100000 observations ) with any distribution, \n",
    "and draw randomly 100 samples with different sample sizes ( 30, 50,100, \n",
    "500). Find the means of those samples and visualise its distribution and \n",
    "find its mean and standard deviation. What are your inferences from the \n",
    "above tasks?"
   ]
  },
  {
   "cell_type": "code",
   "execution_count": 19,
   "id": "efa84f23",
   "metadata": {},
   "outputs": [],
   "source": [
    "population1= st.norm.rvs(200, 10, 100000)"
   ]
  },
  {
   "cell_type": "code",
   "execution_count": 20,
   "id": "7b82924e",
   "metadata": {},
   "outputs": [
    {
     "name": "stderr",
     "output_type": "stream",
     "text": [
      "C:\\Users\\velur\\anaconda3\\lib\\site-packages\\seaborn\\distributions.py:2619: FutureWarning: `distplot` is a deprecated function and will be removed in a future version. Please adapt your code to use either `displot` (a figure-level function with similar flexibility) or `histplot` (an axes-level function for histograms).\n",
      "  warnings.warn(msg, FutureWarning)\n"
     ]
    },
    {
     "data": {
      "text/plain": [
       "<AxesSubplot:ylabel='Density'>"
      ]
     },
     "execution_count": 20,
     "metadata": {},
     "output_type": "execute_result"
    },
    {
     "data": {
      "image/png": "[encoded data removed]",
      "text/plain": [
       "<Figure size 640x480 with 1 Axes>"
      ]
     },
     "metadata": {},
     "output_type": "display_data"
    }
   ],
   "source": [
    "import random\n",
    "sample1=np.array([np.array(random.sample(list(population1),k=30))])\n",
    "sample1\n",
    "sns.distplot(sample1)"
   ]
  },
  {
   "cell_type": "code",
   "execution_count": 21,
   "id": "a26d9f7f",
   "metadata": {},
   "outputs": [
    {
     "data": {
      "text/plain": [
       "200.95782148703566"
      ]
     },
     "execution_count": 21,
     "metadata": {},
     "output_type": "execute_result"
    }
   ],
   "source": [
    "sample1.mean()"
   ]
  },
  {
   "cell_type": "code",
   "execution_count": 22,
   "id": "262c53ef",
   "metadata": {},
   "outputs": [
    {
     "data": {
      "text/plain": [
       "9.683059793388116"
      ]
     },
     "execution_count": 22,
     "metadata": {},
     "output_type": "execute_result"
    }
   ],
   "source": [
    "sample1.std()"
   ]
  },
  {
   "cell_type": "code",
   "execution_count": 23,
   "id": "0d682a5c",
   "metadata": {},
   "outputs": [
    {
     "name": "stderr",
     "output_type": "stream",
     "text": [
      "C:\\Users\\velur\\anaconda3\\lib\\site-packages\\seaborn\\distributions.py:2619: FutureWarning: `distplot` is a deprecated function and will be removed in a future version. Please adapt your code to use either `displot` (a figure-level function with similar flexibility) or `histplot` (an axes-level function for histograms).\n",
      "  warnings.warn(msg, FutureWarning)\n"
     ]
    },
    {
     "data": {
      "text/plain": [
       "<AxesSubplot:ylabel='Density'>"
      ]
     },
     "execution_count": 23,
     "metadata": {},
     "output_type": "execute_result"
    },
    {
     "data": {
      "image/png": "[encoded data removed]",
      "text/plain": [
       "<Figure size 640x480 with 1 Axes>"
      ]
     },
     "metadata": {},
     "output_type": "display_data"
    }
   ],
   "source": [
    "sample2=np.array([np.array(random.sample(list(population1),k=50))])\n",
    "sample2\n",
    "sns.distplot(sample2)"
   ]
  },
  {
   "cell_type": "code",
   "execution_count": 24,
   "id": "17f521c7",
   "metadata": {},
   "outputs": [
    {
     "data": {
      "text/plain": [
       "199.37265452080123"
      ]
     },
     "execution_count": 24,
     "metadata": {},
     "output_type": "execute_result"
    }
   ],
   "source": [
    "sample2.mean()"
   ]
  },
  {
   "cell_type": "code",
   "execution_count": 25,
   "id": "7821a81f",
   "metadata": {},
   "outputs": [
    {
     "data": {
      "text/plain": [
       "10.305647253520206"
      ]
     },
     "execution_count": 25,
     "metadata": {},
     "output_type": "execute_result"
    }
   ],
   "source": [
    "sample2.std()"
   ]
  },
  {
   "cell_type": "code",
   "execution_count": 26,
   "id": "87a9b438",
   "metadata": {},
   "outputs": [
    {
     "name": "stderr",
     "output_type": "stream",
     "text": [
      "C:\\Users\\velur\\anaconda3\\lib\\site-packages\\seaborn\\distributions.py:2619: FutureWarning: `distplot` is a deprecated function and will be removed in a future version. Please adapt your code to use either `displot` (a figure-level function with similar flexibility) or `histplot` (an axes-level function for histograms).\n",
      "  warnings.warn(msg, FutureWarning)\n"
     ]
    },
    {
     "data": {
      "text/plain": [
       "<AxesSubplot:ylabel='Density'>"
      ]
     },
     "execution_count": 26,
     "metadata": {},
     "output_type": "execute_result"
    },
    {
     "data": {
      "image/png": "[encoded data removed]",
      "text/plain": [
       "<Figure size 640x480 with 1 Axes>"
      ]
     },
     "metadata": {},
     "output_type": "display_data"
    }
   ],
   "source": [
    "sample3=np.array([np.array(random.sample(list(population1),k=100))])\n",
    "sample3\n",
    "sns.distplot(sample3)"
   ]
  },
  {
   "cell_type": "code",
   "execution_count": 27,
   "id": "d2078f4a",
   "metadata": {},
   "outputs": [
    {
     "data": {
      "text/plain": [
       "201.05336801979138"
      ]
     },
     "execution_count": 27,
     "metadata": {},
     "output_type": "execute_result"
    }
   ],
   "source": [
    "sample3.mean()"
   ]
  },
  {
   "cell_type": "code",
   "execution_count": 28,
   "id": "af23e264",
   "metadata": {},
   "outputs": [
    {
     "data": {
      "text/plain": [
       "10.697163761883637"
      ]
     },
     "execution_count": 28,
     "metadata": {},
     "output_type": "execute_result"
    }
   ],
   "source": [
    "sample3.std()"
   ]
  },
  {
   "cell_type": "code",
   "execution_count": 29,
   "id": "6dc05c9c",
   "metadata": {},
   "outputs": [
    {
     "name": "stderr",
     "output_type": "stream",
     "text": [
      "C:\\Users\\velur\\anaconda3\\lib\\site-packages\\seaborn\\distributions.py:2619: FutureWarning: `distplot` is a deprecated function and will be removed in a future version. Please adapt your code to use either `displot` (a figure-level function with similar flexibility) or `histplot` (an axes-level function for histograms).\n",
      "  warnings.warn(msg, FutureWarning)\n"
     ]
    },
    {
     "data": {
      "text/plain": [
       "<AxesSubplot:ylabel='Density'>"
      ]
     },
     "execution_count": 29,
     "metadata": {},
     "output_type": "execute_result"
    },
    {
     "data": {
      "image/png": "[encoded data removed]",
      "text/plain": [
       "<Figure size 640x480 with 1 Axes>"
      ]
     },
     "metadata": {},
     "output_type": "display_data"
    }
   ],
   "source": [
    "sample4=np.array([np.array(random.sample(list(population1),k=500))])\n",
    "sample4\n",
    "sns.distplot(sample4)"
   ]
  },
  {
   "cell_type": "code",
   "execution_count": 30,
   "id": "1abf7236",
   "metadata": {},
   "outputs": [
    {
     "data": {
      "text/plain": [
       "199.635511638145"
      ]
     },
     "execution_count": 30,
     "metadata": {},
     "output_type": "execute_result"
    }
   ],
   "source": [
    "sample4.mean()"
   ]
  },
  {
   "cell_type": "code",
   "execution_count": 31,
   "id": "47556477",
   "metadata": {},
   "outputs": [
    {
     "data": {
      "text/plain": [
       "10.178597564039242"
      ]
     },
     "execution_count": 31,
     "metadata": {},
     "output_type": "execute_result"
    }
   ],
   "source": [
    "sample4.std()"
   ]
  },
  {
   "cell_type": "raw",
   "id": "be416763",
   "metadata": {},
   "source": [
    "#Inference\n",
    "    I have creates a sample using normal distribution and fron the task i observe that if we increase the sample size the curve almost follows normal distribution"
   ]
  },
  {
   "cell_type": "raw",
   "id": "43a67424",
   "metadata": {},
   "source": [
    "Q8\n",
    " Compact Innovation Avenues Private Limited is the leading manufacturer\n",
    "of stationary items , established in 2018 in Bangalore. Pencils manufactured \n",
    "by this company is expected to have a mean length of 172 mm and the \n",
    "standard deviation of the length is 0.02 mm. To ensure the quality, a \n",
    "sample is selected at periodic intervals to determine whether the length is \n",
    "still 172 mm to meet the quality standards set by the company. You select \n",
    "a random sample of 100 pencils follows a normal distribution and the mean \n",
    "is 170 mm.**\n",
    "a) Construct a 99% confidence interval for the pencil length.\n",
    "b) Construct a 95% confidence interval for the pencil length.\n",
    "c) state your inferences on the above results of a and b"
   ]
  },
  {
   "cell_type": "code",
   "execution_count": 3,
   "id": "d47d9989",
   "metadata": {},
   "outputs": [
    {
     "name": "stdout",
     "output_type": "stream",
     "text": [
      "[172.01152184 171.99797632 171.98846163 171.99778645 172.02125345\n",
      " 171.99883385 172.00113878 172.00463685 172.0129349  171.98590511\n",
      " 171.97159872 172.00174012 172.01697887 172.03481826 172.03241312\n",
      " 172.02027583 172.0098727  172.00183891 171.96858224 172.0122037\n",
      " 172.00299785 172.0061148  171.98433413 171.99762663 171.99448965\n",
      " 171.99642077 171.97877201 172.00905261 172.01108673 171.99118163\n",
      " 172.0051916  172.01601691 171.99140156 172.02028265 171.99111951\n",
      " 171.98281318 172.01633071 172.00829779 171.99623426 172.00980333\n",
      " 172.02616884 171.98547992 172.04035086 171.98501272 171.97005934\n",
      " 171.99058042 172.02712431 172.04247279 171.99866714 172.00670222\n",
      " 171.9825155  172.00670341 172.00610948 171.98789394 172.03274986\n",
      " 172.02866205 172.00467576 171.98002924 172.00569881 171.96023244\n",
      " 171.99512196 171.99619725 172.00699824 171.98680432 172.02927905\n",
      " 172.01015973 172.029658   172.00559545 172.02198077 172.00124422\n",
      " 172.00158266 172.0031521  172.00383914 172.0223433  172.00234667\n",
      " 171.96319433 172.00561899 172.0031282  171.97652652 171.97744512\n",
      " 171.97880056 172.04325074 171.99898206 171.94840485 172.00802886\n",
      " 172.0099244  172.04551019 172.00482195 172.00134984 171.9985849\n",
      " 171.97383662 172.01421541 172.03765207 172.01941136 172.03697798\n",
      " 171.99410762 172.01126346 171.95892594 172.00093198 172.02008984]\n",
      "100\n"
     ]
    }
   ],
   "source": [
    "sample=st.norm.rvs(172,0.02,100)\n",
    "print(sample)\n",
    "print(len(sample))"
   ]
  },
  {
   "cell_type": "raw",
   "id": "dc939cd0",
   "metadata": {},
   "source": [
    "a) Construct a 99% confidence interval for the pencil length."
   ]
  },
  {
   "cell_type": "raw",
   "id": "3d323969",
   "metadata": {},
   "source": [
    "Step1:\n",
    "    H0:The mean length of the pencil is = 172mm\n",
    "    H1:The mean length of the pencil is != 172mm"
   ]
  },
  {
   "cell_type": "code",
   "execution_count": 6,
   "id": "dd410c1d",
   "metadata": {},
   "outputs": [],
   "source": [
    "#Step2:\n",
    "alpha=0.01"
   ]
  },
  {
   "cell_type": "code",
   "execution_count": 7,
   "id": "c0444017",
   "metadata": {},
   "outputs": [
    {
     "name": "stdout",
     "output_type": "stream",
     "text": [
      "1.5775781266853528\n"
     ]
    }
   ],
   "source": [
    "#step3:\n",
    "#population standard deviation is known so we use z test \n",
    "#z_statistic=(xbar-mu)/(sigma/sqrt(n))\n",
    "mu=172\n",
    "xbar=np.mean(sample)\n",
    "sigma=0.02\n",
    "n=len(sample)\n",
    "std_error=sigma/np.sqrt(n)\n",
    "z_stat=(xbar-mu)/std_error\n",
    "print(z_stat)"
   ]
  },
  {
   "cell_type": "code",
   "execution_count": 8,
   "id": "6de05ae7",
   "metadata": {},
   "outputs": [
    {
     "data": {
      "text/plain": [
       "2.575829303548901"
      ]
     },
     "execution_count": 8,
     "metadata": {},
     "output_type": "execute_result"
    }
   ],
   "source": [
    "#step4: finding the critical value \n",
    "z_cri=st.norm.isf(alpha/2)\n",
    "z_cri"
   ]
  },
  {
   "cell_type": "code",
   "execution_count": 9,
   "id": "1c322d81",
   "metadata": {},
   "outputs": [
    {
     "name": "stdout",
     "output_type": "stream",
     "text": [
      "The mean length of the pencil is = 172mm\n"
     ]
    }
   ],
   "source": [
    "#step 5:\n",
    "if abs(z_stat)<abs(z_cri):\n",
    "    print(\"The mean length of the pencil is = 172mm\")\n",
    "else:\n",
    "    print(\"The mean lengtth of the pencil is != 172mm\")"
   ]
  },
  {
   "cell_type": "raw",
   "id": "828901f0",
   "metadata": {},
   "source": [
    "b) Construct a 95% confidence interval for the pencil length."
   ]
  },
  {
   "cell_type": "raw",
   "id": "aa00748e",
   "metadata": {},
   "source": [
    "Step1:\n",
    "    H0:The mean length of the pencil is = 172mm\n",
    "    H1:The mean length of the pencil is != 172mm"
   ]
  },
  {
   "cell_type": "code",
   "execution_count": 10,
   "id": "ea816875",
   "metadata": {},
   "outputs": [],
   "source": [
    "#Step2:\n",
    "alpha1=0.05"
   ]
  },
  {
   "cell_type": "code",
   "execution_count": 11,
   "id": "748a00c6",
   "metadata": {},
   "outputs": [
    {
     "name": "stdout",
     "output_type": "stream",
     "text": [
      "1.5775781266853528\n"
     ]
    }
   ],
   "source": [
    "#step3:\n",
    "#population standard deviation is known so we use z test \n",
    "#z_statistic=(xbar-mu)/(sigma/sqrt(n))\n",
    "mu=172\n",
    "xbar=np.mean(sample)\n",
    "sigma=0.02\n",
    "n=len(sample)\n",
    "std_error=sigma/np.sqrt(n)\n",
    "z_stat=(xbar-mu)/std_error\n",
    "print(z_stat)"
   ]
  },
  {
   "cell_type": "code",
   "execution_count": 39,
   "id": "65ea37df",
   "metadata": {},
   "outputs": [
    {
     "data": {
      "text/plain": [
       "1.9599639845400545"
      ]
     },
     "execution_count": 39,
     "metadata": {},
     "output_type": "execute_result"
    }
   ],
   "source": [
    "#step4: finding the critical value \n",
    "z_cri1=st.norm.isf(alpha1/2)\n",
    "z_cri1"
   ]
  },
  {
   "cell_type": "code",
   "execution_count": 40,
   "id": "ccefa9f0",
   "metadata": {},
   "outputs": [
    {
     "name": "stdout",
     "output_type": "stream",
     "text": [
      "The mean length of the pencil is = 172mm\n"
     ]
    }
   ],
   "source": [
    "#step 5:\n",
    "if abs(z_stat)<abs(z_cri1):\n",
    "    print(\"The mean length of the pencil is = 172mm\")\n",
    "else:\n",
    "    print(\"The mean lengtth of the pencil is != 172mm\")"
   ]
  },
  {
   "cell_type": "raw",
   "id": "50c24ff2",
   "metadata": {},
   "source": [
    "c) state your inferences on the above results of a and b"
   ]
  },
  {
   "cell_type": "raw",
   "id": "9c8224be",
   "metadata": {},
   "source": [
    "From the above results (a) and (b) we infer that we fail to reject H0:\n",
    "    we conclude that the mean length of the pencil is 172mm and the pencil meets the quality standards set by the company"
   ]
  },
  {
   "cell_type": "code",
   "execution_count": null,
   "id": "c3045026",
   "metadata": {},
   "outputs": [],
   "source": []
  }
 ],
 "metadata": {
  "kernelspec": {
   "display_name": "Python 3 (ipykernel)",
   "language": "python",
   "name": "python3"
  },
  "language_info": {
   "codemirror_mode": {
    "name": "ipython",
    "version": 3
   },
   "file_extension": ".py",
   "mimetype": "text/x-python",
   "name": "python",
   "nbconvert_exporter": "python",
   "pygments_lexer": "ipython3",
   "version": "3.10.9"
  }
 },
 "nbformat": 4,
 "nbformat_minor": 5
}
